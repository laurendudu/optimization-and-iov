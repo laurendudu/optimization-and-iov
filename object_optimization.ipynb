{
 "cells": [
  {
   "cell_type": "code",
   "execution_count": 1,
   "metadata": {},
   "outputs": [],
   "source": [
    "import pandas as pd\n",
    "import matplotlib.pyplot as plt\n",
    "import numpy as np\n",
    "\n",
    "from utils.objects import *\n",
    "from utils.main_objects import *"
   ]
  },
  {
   "attachments": {},
   "cell_type": "markdown",
   "metadata": {},
   "source": [
    "## Importing the data"
   ]
  },
  {
   "cell_type": "code",
   "execution_count": 2,
   "metadata": {},
   "outputs": [],
   "source": [
    "rsu = pd.read_csv('data/rsu.csv')\n",
    "es = pd.read_csv('data/es.csv')\n",
    "tasks = pd.read_csv('data/tasks.csv')"
   ]
  },
  {
   "cell_type": "code",
   "execution_count": 3,
   "metadata": {},
   "outputs": [],
   "source": [
    "rsu_bank = populate_rsus(rsu)\n",
    "es_bank = populate_ess(es)\n",
    "tasks_bank = populate_tasks(tasks)"
   ]
  },
  {
   "cell_type": "code",
   "execution_count": 4,
   "metadata": {},
   "outputs": [
    {
     "data": {
      "text/plain": [
       "(100, 100, 50)"
      ]
     },
     "execution_count": 4,
     "metadata": {},
     "output_type": "execute_result"
    }
   ],
   "source": [
    "len(rsu_bank), len(es_bank), len(tasks_bank)"
   ]
  },
  {
   "attachments": {},
   "cell_type": "markdown",
   "metadata": {},
   "source": [
    "## Generating a network"
   ]
  },
  {
   "cell_type": "code",
   "execution_count": 5,
   "metadata": {},
   "outputs": [],
   "source": [
    "# we repopulate the rsu and es banks to ensure the network is new\n",
    "rsu_bank = populate_rsus(rsu)\n",
    "es_bank = populate_ess(es)\n",
    "network = get_network(rsu_bank, es_bank)"
   ]
  },
  {
   "cell_type": "code",
   "execution_count": 6,
   "metadata": {},
   "outputs": [
    {
     "data": {
      "text/html": [
       "<div>\n",
       "<style scoped>\n",
       "    .dataframe tbody tr th:only-of-type {\n",
       "        vertical-align: middle;\n",
       "    }\n",
       "\n",
       "    .dataframe tbody tr th {\n",
       "        vertical-align: top;\n",
       "    }\n",
       "\n",
       "    .dataframe thead th {\n",
       "        text-align: right;\n",
       "    }\n",
       "</style>\n",
       "<table border=\"1\" class=\"dataframe\">\n",
       "  <thead>\n",
       "    <tr style=\"text-align: right;\">\n",
       "      <th></th>\n",
       "      <th>ID</th>\n",
       "      <th>X</th>\n",
       "      <th>Y</th>\n",
       "      <th>DTR</th>\n",
       "      <th>STATE</th>\n",
       "      <th>END_TIME</th>\n",
       "      <th>ES</th>\n",
       "    </tr>\n",
       "  </thead>\n",
       "  <tbody>\n",
       "    <tr>\n",
       "      <th>0</th>\n",
       "      <td>2</td>\n",
       "      <td>7</td>\n",
       "      <td>71</td>\n",
       "      <td>5</td>\n",
       "      <td>IDLE</td>\n",
       "      <td>None</td>\n",
       "      <td>&lt;utils.objects.ES object at 0x11ea36680&gt;</td>\n",
       "    </tr>\n",
       "    <tr>\n",
       "      <th>1</th>\n",
       "      <td>16</td>\n",
       "      <td>0</td>\n",
       "      <td>1</td>\n",
       "      <td>24</td>\n",
       "      <td>IDLE</td>\n",
       "      <td>None</td>\n",
       "      <td>&lt;utils.objects.ES object at 0x11e9dbe50&gt;</td>\n",
       "    </tr>\n",
       "    <tr>\n",
       "      <th>2</th>\n",
       "      <td>11</td>\n",
       "      <td>41</td>\n",
       "      <td>61</td>\n",
       "      <td>48</td>\n",
       "      <td>IDLE</td>\n",
       "      <td>None</td>\n",
       "      <td>&lt;utils.objects.ES object at 0x11ea20610&gt;</td>\n",
       "    </tr>\n",
       "    <tr>\n",
       "      <th>3</th>\n",
       "      <td>18</td>\n",
       "      <td>93</td>\n",
       "      <td>75</td>\n",
       "      <td>12</td>\n",
       "      <td>IDLE</td>\n",
       "      <td>None</td>\n",
       "      <td>AP</td>\n",
       "    </tr>\n",
       "    <tr>\n",
       "      <th>4</th>\n",
       "      <td>76</td>\n",
       "      <td>92</td>\n",
       "      <td>17</td>\n",
       "      <td>30</td>\n",
       "      <td>IDLE</td>\n",
       "      <td>None</td>\n",
       "      <td>&lt;utils.objects.ES object at 0x11e9dbaf0&gt;</td>\n",
       "    </tr>\n",
       "  </tbody>\n",
       "</table>\n",
       "</div>"
      ],
      "text/plain": [
       "   ID   X   Y  DTR STATE END_TIME                                        ES\n",
       "0   2   7  71    5  IDLE     None  <utils.objects.ES object at 0x11ea36680>\n",
       "1  16   0   1   24  IDLE     None  <utils.objects.ES object at 0x11e9dbe50>\n",
       "2  11  41  61   48  IDLE     None  <utils.objects.ES object at 0x11ea20610>\n",
       "3  18  93  75   12  IDLE     None                                        AP\n",
       "4  76  92  17   30  IDLE     None  <utils.objects.ES object at 0x11e9dbaf0>"
      ]
     },
     "execution_count": 6,
     "metadata": {},
     "output_type": "execute_result"
    }
   ],
   "source": [
    "# put the network in a dataframe with the attributes of the objects as columns\n",
    "# network is a list of objects\n",
    "network_df = pd.DataFrame([vars(x) for x in network])\n",
    "network_df.head()"
   ]
  },
  {
   "cell_type": "code",
   "execution_count": 7,
   "metadata": {},
   "outputs": [
    {
     "data": {
      "text/html": [
       "<div>\n",
       "<style scoped>\n",
       "    .dataframe tbody tr th:only-of-type {\n",
       "        vertical-align: middle;\n",
       "    }\n",
       "\n",
       "    .dataframe tbody tr th {\n",
       "        vertical-align: top;\n",
       "    }\n",
       "\n",
       "    .dataframe thead th {\n",
       "        text-align: right;\n",
       "    }\n",
       "</style>\n",
       "<table border=\"1\" class=\"dataframe\">\n",
       "  <thead>\n",
       "    <tr style=\"text-align: right;\">\n",
       "      <th></th>\n",
       "      <th>ID</th>\n",
       "      <th>LENGTH</th>\n",
       "      <th>FILE_SIZE</th>\n",
       "      <th>TYPE</th>\n",
       "      <th>X</th>\n",
       "      <th>Y</th>\n",
       "      <th>COMPLETED</th>\n",
       "      <th>MIGRATION_HISTORY</th>\n",
       "      <th>COMPUTATION_HISTORY</th>\n",
       "      <th>MIGRATION_TIME</th>\n",
       "    </tr>\n",
       "  </thead>\n",
       "  <tbody>\n",
       "    <tr>\n",
       "      <th>0</th>\n",
       "      <td>0</td>\n",
       "      <td>12</td>\n",
       "      <td>322</td>\n",
       "      <td>DATA TRANSFER</td>\n",
       "      <td>73</td>\n",
       "      <td>32</td>\n",
       "      <td>False</td>\n",
       "      <td>0</td>\n",
       "      <td>0</td>\n",
       "      <td>0</td>\n",
       "    </tr>\n",
       "    <tr>\n",
       "      <th>1</th>\n",
       "      <td>1</td>\n",
       "      <td>23</td>\n",
       "      <td>483</td>\n",
       "      <td>DATA TRANSFER</td>\n",
       "      <td>83</td>\n",
       "      <td>21</td>\n",
       "      <td>False</td>\n",
       "      <td>0</td>\n",
       "      <td>0</td>\n",
       "      <td>0</td>\n",
       "    </tr>\n",
       "    <tr>\n",
       "      <th>2</th>\n",
       "      <td>2</td>\n",
       "      <td>83</td>\n",
       "      <td>103</td>\n",
       "      <td>DATA TRANSFER</td>\n",
       "      <td>49</td>\n",
       "      <td>65</td>\n",
       "      <td>False</td>\n",
       "      <td>0</td>\n",
       "      <td>0</td>\n",
       "      <td>0</td>\n",
       "    </tr>\n",
       "    <tr>\n",
       "      <th>3</th>\n",
       "      <td>3</td>\n",
       "      <td>74</td>\n",
       "      <td>3</td>\n",
       "      <td>COMPUTATION</td>\n",
       "      <td>24</td>\n",
       "      <td>50</td>\n",
       "      <td>False</td>\n",
       "      <td>0</td>\n",
       "      <td>0</td>\n",
       "      <td>0</td>\n",
       "    </tr>\n",
       "    <tr>\n",
       "      <th>4</th>\n",
       "      <td>4</td>\n",
       "      <td>76</td>\n",
       "      <td>467</td>\n",
       "      <td>COMPUTATION</td>\n",
       "      <td>23</td>\n",
       "      <td>52</td>\n",
       "      <td>False</td>\n",
       "      <td>0</td>\n",
       "      <td>0</td>\n",
       "      <td>0</td>\n",
       "    </tr>\n",
       "  </tbody>\n",
       "</table>\n",
       "</div>"
      ],
      "text/plain": [
       "   ID  LENGTH  FILE_SIZE           TYPE   X   Y  COMPLETED  MIGRATION_HISTORY  \\\n",
       "0   0      12        322  DATA TRANSFER  73  32      False                  0   \n",
       "1   1      23        483  DATA TRANSFER  83  21      False                  0   \n",
       "2   2      83        103  DATA TRANSFER  49  65      False                  0   \n",
       "3   3      74          3    COMPUTATION  24  50      False                  0   \n",
       "4   4      76        467    COMPUTATION  23  52      False                  0   \n",
       "\n",
       "   COMPUTATION_HISTORY  MIGRATION_TIME  \n",
       "0                    0               0  \n",
       "1                    0               0  \n",
       "2                    0               0  \n",
       "3                    0               0  \n",
       "4                    0               0  "
      ]
     },
     "execution_count": 7,
     "metadata": {},
     "output_type": "execute_result"
    }
   ],
   "source": [
    "tasks_df = pd.DataFrame([vars(x) for x in tasks_bank])\n",
    "tasks_df.head()"
   ]
  },
  {
   "attachments": {},
   "cell_type": "markdown",
   "metadata": {},
   "source": [
    "## Running the task offloading process"
   ]
  },
  {
   "cell_type": "code",
   "execution_count": 9,
   "metadata": {},
   "outputs": [],
   "source": [
    "current_time = 0\n",
    "\n",
    "# while there are still tasks to be completed\n",
    "while not all(task.COMPLETED for task in tasks_bank):\n",
    "\n",
    "    # get the first task in the task bank which is not completed\n",
    "    task = next((task for task in tasks_bank if task.COMPLETED == False), None)\n",
    "\n",
    "    # get the closest rsu to the task\n",
    "    closest_rsu = get_closest_rsu(rsu_bank, task)\n",
    "\n",
    "    # suppose the task is assigned at that rsu directly\n",
    "    task.X = closest_rsu.X\n",
    "    task.Y = closest_rsu.Y\n",
    "\n",
    "    # if the rsu is free and compatible with the task, compute the task\n",
    "    if is_server_free(closest_rsu) and compatible(closest_rsu, task):\n",
    "        closest_rsu.STATE = \"BUSY\"\n",
    "        task.COMPLETED = True\n",
    "        # if the task is of type 'COMPUTATION', compute the computation time\n",
    "        if task.TYPE == \"COMPUTATION\":\n",
    "            t_computation = computation_time(task_length=task.LENGTH,\n",
    "                                                vm_nb=closest_rsu.VM_NB,\n",
    "                                                vm_cpu=closest_rsu.VM_CP)\n",
    "            closest_rsu.END_TIME = current_time + t_computation\n",
    "            task.COMPUTATION_HISTORY = t_computation\n",
    "        # else (if the task is of type 'DATA TRANSFER'), compute the transfer time\n",
    "        elif task.TYPE == \"DATA TRANSFER\":\n",
    "            t_data_transfer = data_transfer_time(file_size=task.FILE_SIZE,\n",
    "                                          dtr=closest_rsu.DTR)\n",
    "            closest_rsu.END_TIME = current_time + t_data_transfer\n",
    "            task.COMPUTATION_HISTORY = t_data_transfer\n",
    "\n",
    "    # if the rsu is busy or incompatible with the task, migrate the task\n",
    "    else:\n",
    "        # find the closest rsu to the task\n",
    "        next_closest_rsu = get_closest_rsu(rsu_bank, task)\n",
    "        \n",
    "        # compute the migration time\n",
    "        t_migration = migration_time(file_size=task.FILE_SIZE,\n",
    "                                        distance=distance(task, next_closest_rsu),\n",
    "                                        dtr=closest_rsu.DTR)\n",
    "        \n",
    "        # update the migration time of the task\n",
    "        task.MIGRATION_TIME = t_migration\n",
    "        # keep a record of the total migration time of the task\n",
    "        task.MIGRATION_HISTORY += t_migration\n",
    "\n",
    "        # update the coordinates of the task for when it will be migrated\n",
    "        task.X = next_closest_rsu.X\n",
    "        task.Y = next_closest_rsu.Y\n",
    "\n",
    "    # check if any rsu should turn free at the current time\n",
    "    for rsu in rsu_bank:\n",
    "        if rsu.STATE == \"BUSY\" and rsu.END_TIME == current_time:\n",
    "                rsu.STATE = \"IDLE\"\n",
    "                rsu.END_TIME = None\n",
    "\n",
    "    # remove a time unit from the migration time of each task if the migration time is greater than 0\n",
    "    for task in tasks_bank:\n",
    "        if task.MIGRATION_TIME > 0:\n",
    "            task.MIGRATION_TIME -= 1\n",
    "\n",
    "    # update the current time\n",
    "    current_time += 1\n",
    "\n"
   ]
  },
  {
   "cell_type": "code",
   "execution_count": null,
   "metadata": {},
   "outputs": [
    {
     "data": {
      "text/plain": [
       "322"
      ]
     },
     "execution_count": 11,
     "metadata": {},
     "output_type": "execute_result"
    }
   ],
   "source": [
    "task.FILE_SIZE"
   ]
  }
 ],
 "metadata": {
  "kernelspec": {
   "display_name": "Python 3",
   "language": "python",
   "name": "python3"
  },
  "language_info": {
   "codemirror_mode": {
    "name": "ipython",
    "version": 3
   },
   "file_extension": ".py",
   "mimetype": "text/x-python",
   "name": "python",
   "nbconvert_exporter": "python",
   "pygments_lexer": "ipython3",
   "version": "3.10.5"
  },
  "orig_nbformat": 4
 },
 "nbformat": 4,
 "nbformat_minor": 2
}
