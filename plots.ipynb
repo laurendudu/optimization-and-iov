{
 "cells": [
  {
   "attachments": {},
   "cell_type": "markdown",
   "metadata": {},
   "source": [
    "# Optimization of an IoV system"
   ]
  },
  {
   "cell_type": "code",
   "execution_count": null,
   "metadata": {},
   "outputs": [],
   "source": [
    "import pandas as pd\n",
    "import matplotlib.pyplot as plt\n",
    "import numpy as np\n",
    "import random\n",
    "\n",
    "from utils.plots import *\n",
    "from utils.objects import *\n",
    "from utils.nsgaii import nsga2, Individual, chromosome_to_network"
   ]
  },
  {
   "attachments": {},
   "cell_type": "markdown",
   "metadata": {},
   "source": [
    "## Importing the data"
   ]
  },
  {
   "cell_type": "code",
   "execution_count": null,
   "metadata": {},
   "outputs": [],
   "source": [
    "rsu = pd.read_csv('data/rsu.csv')\n",
    "es = pd.read_csv('data/es.csv')\n",
    "tasks = pd.read_csv('data/tasks.csv')\n",
    "\n",
    "rsu_bank = populate_rsus(rsu)\n",
    "es_bank = populate_ess(es)\n",
    "tasks_bank = populate_tasks(tasks)"
   ]
  },
  {
   "attachments": {},
   "cell_type": "markdown",
   "metadata": {},
   "source": [
    "# Generating a Network"
   ]
  },
  {
   "cell_type": "code",
   "execution_count": null,
   "metadata": {},
   "outputs": [],
   "source": [
    "network = get_random_network(rsu_bank, es_bank)"
   ]
  },
  {
   "cell_type": "code",
   "execution_count": null,
   "metadata": {},
   "outputs": [],
   "source": [
    "plot_network(network, tasks_bank)"
   ]
  },
  {
   "attachments": {},
   "cell_type": "markdown",
   "metadata": {},
   "source": [
    "## Looking at the solutions for a set of variables"
   ]
  },
  {
   "attachments": {},
   "cell_type": "markdown",
   "metadata": {},
   "source": [
    "You can edit the variables of the algorithm, then plot all solutions of the Pareto front."
   ]
  },
  {
   "cell_type": "code",
   "execution_count": null,
   "metadata": {},
   "outputs": [],
   "source": [
    "Individual.__instances__ = []\n",
    "\n",
    "POPULATION_SIZE = 100\n",
    "MAX_GENERATIONS = 50\n",
    "TOURNAMENT_SIZE = 2\n",
    "CROSSOVER_PROBABILITY = 0.9\n",
    "MUTATION_PROBABILITY = 0.4\n",
    "test = nsga2(POPULATION_SIZE, MAX_GENERATIONS, TOURNAMENT_SIZE, CROSSOVER_PROBABILITY, MUTATION_PROBABILITY, rsu_bank, es_bank)\n",
    "\n",
    "# Plot the Pareto front\n",
    "plot_pareto(test, POPULATION_SIZE, MAX_GENERATIONS, TOURNAMENT_SIZE, CROSSOVER_PROBABILITY, MUTATION_PROBABILITY)"
   ]
  },
  {
   "cell_type": "code",
   "execution_count": null,
   "metadata": {},
   "outputs": [],
   "source": [
    "# get individuals where rank == 1\n",
    "best_individuals = [individual for individual in test if individual.rank == 1]\n",
    "# get the individuals with different chromosomes\n",
    "best_individuals = list(set(best_individuals))\n",
    "\n",
    "# reset the positions of the tasks\n",
    "tasks = pd.read_csv('data/tasks.csv')\n",
    "tasks_bank = populate_tasks(tasks)"
   ]
  },
  {
   "cell_type": "code",
   "execution_count": null,
   "metadata": {},
   "outputs": [],
   "source": [
    "# plots the best solutions of the algorithm\n",
    "for person in best_individuals:\n",
    "    plot_solution(person, tasks_bank)"
   ]
  }
 ],
 "metadata": {
  "kernelspec": {
   "display_name": "Python 3",
   "language": "python",
   "name": "python3"
  },
  "language_info": {
   "codemirror_mode": {
    "name": "ipython",
    "version": 3
   },
   "file_extension": ".py",
   "mimetype": "text/x-python",
   "name": "python",
   "nbconvert_exporter": "python",
   "pygments_lexer": "ipython3",
   "version": "3.10.5"
  },
  "orig_nbformat": 4,
  "vscode": {
   "interpreter": {
    "hash": "aee8b7b246df8f9039afb4144a1f6fd8d2ca17a180786b69acc140d282b71a49"
   }
  }
 },
 "nbformat": 4,
 "nbformat_minor": 2
}
