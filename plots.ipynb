{
 "cells": [
  {
   "attachments": {},
   "cell_type": "markdown",
   "metadata": {},
   "source": [
    "# Optimization of an IoV system"
   ]
  },
  {
   "cell_type": "code",
   "execution_count": 32,
   "metadata": {},
   "outputs": [],
   "source": [
    "import pandas as pd\n",
    "import matplotlib.pyplot as plt\n",
    "import numpy as np\n",
    "\n",
    "from utils.plots import plot_network, plot_rsu_ids"
   ]
  },
  {
   "attachments": {},
   "cell_type": "markdown",
   "metadata": {},
   "source": [
    "## Importing the data"
   ]
  },
  {
   "cell_type": "code",
   "execution_count": 33,
   "metadata": {},
   "outputs": [],
   "source": [
    "rsu = pd.read_csv('data/rsu.csv')\n",
    "es = pd.read_csv('data/es.csv')\n",
    "tasks = pd.read_csv('data/tasks.csv')"
   ]
  },
  {
   "attachments": {},
   "cell_type": "markdown",
   "metadata": {},
   "source": [
    "# Generating a Network"
   ]
  },
  {
   "cell_type": "code",
   "execution_count": 34,
   "metadata": {},
   "outputs": [],
   "source": [
    "def get_network(rsu: pd.DataFrame, es: pd.DataFrame):\n",
    "    # choose a random number of RSUs M\n",
    "    M = np.random.randint(1, len(rsu))\n",
    "    # choose a random number of ESs W, with W < M\n",
    "    W = np.random.randint(1, M)\n",
    "\n",
    "    # choose M random RSUs\n",
    "    rsu = rsu.sample(M)\n",
    "    # choose W random ESs\n",
    "    es = es.sample(W)\n",
    "\n",
    "    # add the prefix 'RSU_' to the columns of rsu\n",
    "    rsu.columns = ['RSU_' + col for col in rsu.columns]\n",
    "    # add the prefix 'ES_' to the columns of es\n",
    "    es.columns = ['ES_' + col for col in es.columns]\n",
    "\n",
    "    # shuffle the rows of both dataframes\n",
    "    rsu = rsu.sample(frac=1).reset_index(drop=True)\n",
    "    es = es.sample(frac=1).reset_index(drop=True)\n",
    "\n",
    "    # merge the rsu and es dataframes \n",
    "    rsu = pd.concat([rsu, es], axis=1)\n",
    "\n",
    "    # shuffle the rows of rsu again\n",
    "    rsu = rsu.sample(frac=1).reset_index(drop=True)\n",
    "\n",
    "    # fill the empty ES_ID with 'AP'\n",
    "    rsu['ES_ID'] = rsu['ES_ID'].fillna('AP')\n",
    "    # fill the rest of the empty values with 0\n",
    "    rsu = rsu.fillna(0)\n",
    "\n",
    "    return {\n",
    "        'M': M,\n",
    "        'W': W,\n",
    "        'network': rsu,\n",
    "    }\n"
   ]
  },
  {
   "cell_type": "code",
   "execution_count": 35,
   "metadata": {},
   "outputs": [],
   "source": [
    "network = get_network(rsu, es)"
   ]
  },
  {
   "cell_type": "code",
   "execution_count": 36,
   "metadata": {},
   "outputs": [
    {
     "name": "stdout",
     "output_type": "stream",
     "text": [
      "Number of RSUs: 25\n",
      "Number of ESs: 8\n"
     ]
    }
   ],
   "source": [
    "print(f\"Number of RSUs: {network['M']}\")\n",
    "print(f\"Number of ESs: {network['W']}\")"
   ]
  },
  {
   "cell_type": "code",
   "execution_count": 37,
   "metadata": {},
   "outputs": [
    {
     "data": {
      "text/html": [
       "<div>\n",
       "<style scoped>\n",
       "    .dataframe tbody tr th:only-of-type {\n",
       "        vertical-align: middle;\n",
       "    }\n",
       "\n",
       "    .dataframe tbody tr th {\n",
       "        vertical-align: top;\n",
       "    }\n",
       "\n",
       "    .dataframe thead th {\n",
       "        text-align: right;\n",
       "    }\n",
       "</style>\n",
       "<table border=\"1\" class=\"dataframe\">\n",
       "  <thead>\n",
       "    <tr style=\"text-align: right;\">\n",
       "      <th></th>\n",
       "      <th>RSU_ID</th>\n",
       "      <th>RSU_X</th>\n",
       "      <th>RSU_Y</th>\n",
       "      <th>RSU_DTR</th>\n",
       "      <th>ES_ID</th>\n",
       "      <th>ES_VM_NB</th>\n",
       "      <th>ES_VM_CP</th>\n",
       "    </tr>\n",
       "  </thead>\n",
       "  <tbody>\n",
       "    <tr>\n",
       "      <th>0</th>\n",
       "      <td>36</td>\n",
       "      <td>99</td>\n",
       "      <td>65</td>\n",
       "      <td>53</td>\n",
       "      <td>AP</td>\n",
       "      <td>0.0</td>\n",
       "      <td>0.0</td>\n",
       "    </tr>\n",
       "    <tr>\n",
       "      <th>1</th>\n",
       "      <td>66</td>\n",
       "      <td>92</td>\n",
       "      <td>58</td>\n",
       "      <td>8</td>\n",
       "      <td>AP</td>\n",
       "      <td>0.0</td>\n",
       "      <td>0.0</td>\n",
       "    </tr>\n",
       "    <tr>\n",
       "      <th>2</th>\n",
       "      <td>43</td>\n",
       "      <td>88</td>\n",
       "      <td>38</td>\n",
       "      <td>54</td>\n",
       "      <td>39.0</td>\n",
       "      <td>1.0</td>\n",
       "      <td>9.0</td>\n",
       "    </tr>\n",
       "    <tr>\n",
       "      <th>3</th>\n",
       "      <td>94</td>\n",
       "      <td>4</td>\n",
       "      <td>66</td>\n",
       "      <td>5</td>\n",
       "      <td>AP</td>\n",
       "      <td>0.0</td>\n",
       "      <td>0.0</td>\n",
       "    </tr>\n",
       "    <tr>\n",
       "      <th>4</th>\n",
       "      <td>47</td>\n",
       "      <td>47</td>\n",
       "      <td>58</td>\n",
       "      <td>29</td>\n",
       "      <td>AP</td>\n",
       "      <td>0.0</td>\n",
       "      <td>0.0</td>\n",
       "    </tr>\n",
       "  </tbody>\n",
       "</table>\n",
       "</div>"
      ],
      "text/plain": [
       "   RSU_ID  RSU_X  RSU_Y  RSU_DTR ES_ID  ES_VM_NB  ES_VM_CP\n",
       "0      36     99     65       53    AP       0.0       0.0\n",
       "1      66     92     58        8    AP       0.0       0.0\n",
       "2      43     88     38       54  39.0       1.0       9.0\n",
       "3      94      4     66        5    AP       0.0       0.0\n",
       "4      47     47     58       29    AP       0.0       0.0"
      ]
     },
     "execution_count": 37,
     "metadata": {},
     "output_type": "execute_result"
    }
   ],
   "source": [
    "network['network'].head()"
   ]
  },
  {
   "cell_type": "code",
   "execution_count": 38,
   "metadata": {},
   "outputs": [
    {
     "data": {
      "image/png": "[encoded data removed]",
      "text/plain": [
       "<Figure size 720x360 with 2 Axes>"
      ]
     },
     "metadata": {
      "needs_background": "light"
     },
     "output_type": "display_data"
    }
   ],
   "source": [
    "# display on the left the RSUs from the X and Y columns in the rsu dataframe\n",
    "# display on the right the RSUs from the RSU_X and RSU_Y columns in the network dataframe\n",
    "fig, ax = plt.subplots(1, 2, figsize=(10, 5))\n",
    "ax[0].scatter(rsu['X'], rsu['Y'])\n",
    "ax[1].scatter(network['network']['RSU_X'], network['network']['RSU_Y'])\n",
    "\n",
    "# make the background of the plot light green\n",
    "ax[0].set_facecolor('#d3f0d3')\n",
    "ax[1].set_facecolor('#d3f0d3')\n",
    "\n",
    "# increase the size of the points and make them purple\n",
    "ax[0].scatter(rsu['X'], rsu['Y'], s=100, c='#800080')\n",
    "ax[1].scatter(network['network']['RSU_X'], network['network']['RSU_Y'], s=100, c='#800080')\n",
    "\n",
    "# add a title to each plot\n",
    "ax[0].set_title('RSUs from the bank of RSUs')\n",
    "ax[1].set_title('RSUs from the generated network')\n",
    "\n",
    "# make the titles a bit bigger\n",
    "ax[0].title.set_size(15)\n",
    "ax[1].title.set_size(15)\n",
    "\n",
    "plt.show()"
   ]
  },
  {
   "cell_type": "code",
   "execution_count": 39,
   "metadata": {},
   "outputs": [
    {
     "data": {
      "image/png": "[encoded data removed]",
      "text/plain": [
       "<Figure size 648x504 with 2 Axes>"
      ]
     },
     "metadata": {
      "needs_background": "light"
     },
     "output_type": "display_data"
    }
   ],
   "source": [
    "plot_network(network['network'])"
   ]
  }
 ],
 "metadata": {
  "kernelspec": {
   "display_name": "Python 3",
   "language": "python",
   "name": "python3"
  },
  "language_info": {
   "codemirror_mode": {
    "name": "ipython",
    "version": 3
   },
   "file_extension": ".py",
   "mimetype": "text/x-python",
   "name": "python",
   "nbconvert_exporter": "python",
   "pygments_lexer": "ipython3",
   "version": "3.10.5"
  },
  "orig_nbformat": 4,
  "vscode": {
   "interpreter": {
    "hash": "aee8b7b246df8f9039afb4144a1f6fd8d2ca17a180786b69acc140d282b71a49"
   }
  }
 },
 "nbformat": 4,
 "nbformat_minor": 2
}
