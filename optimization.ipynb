{
 "cells": [
  {
   "cell_type": "code",
   "execution_count": 3,
   "metadata": {},
   "outputs": [],
   "source": [
    "import pandas as pd\n",
    "from utils.offloading import task_offloading\n",
    "from utils.objects import *"
   ]
  },
  {
   "cell_type": "code",
   "execution_count": 2,
   "metadata": {},
   "outputs": [],
   "source": [
    "rsu = pd.read_csv('data/rsu.csv')\n",
    "es = pd.read_csv('data/es.csv')\n",
    "tasks = pd.read_csv('data/tasks.csv')"
   ]
  },
  {
   "cell_type": "code",
   "execution_count": 4,
   "metadata": {},
   "outputs": [],
   "source": [
    "rsu_bank = populate_rsus(rsu)\n",
    "es_bank = populate_ess(es)\n",
    "tasks_bank = populate_tasks(tasks)"
   ]
  },
  {
   "cell_type": "code",
   "execution_count": 6,
   "metadata": {},
   "outputs": [],
   "source": [
    "import numpy as np\n",
    "\n",
    "# Define the parameters of the ACO algorithm\n",
    "NUM_ANTS = 20 # number of ants in the colony\n",
    "NUM_ITERATIONS = 100 # number of iterations to run the algorithm\n",
    "EVAPORATION_RATE = 0.5 # rate at which pheromone evaporates\n",
    "ALPHA = 1.0 # importance of pheromone level in selecting next node\n",
    "BETA = 1.0 # importance of heuristic information in selecting next node\n",
    "Q = 1.0 # pheromone deposit constant\n",
    "INITIAL_PHEROMONE = 0.1 # initial pheromone level on each edge\n",
    "\n",
    "# Define the problem-specific parameters\n",
    "NUM_TASKS = len(tasks_bank) # number of tasks in the network\n",
    "NUM_RSUS = len(rsu_bank) # number of RSUs in the network\n",
    "#MAX_COMPUTATION_TIME = 100 # maximum computation time for a task\n",
    "#MAX_MIGRATION_TIME = 50 # maximum migration time for a task\n",
    "#MAX_DTR = 10 # maximum data transfer rate for an RSU\n",
    "#TASK_LENGTHS = np.random.randint(1, 11, NUM_TASKS) # length of each task\n",
    "#TASK_FILE_SIZES = np.random.randint(1, 11, NUM_TASKS) # size of the file associated with each task\n",
    "#RSU_DTRS = np.random.randint(1, MAX_DTR+1, NUM_RSUS) # data transfer rates of each RSU\n"
   ]
  },
  {
   "cell_type": "code",
   "execution_count": 7,
   "metadata": {},
   "outputs": [],
   "source": [
    "# Define the adjacency matrix for the network\n",
    "network = np.random.rand(NUM_RSUS, NUM_RSUS)\n",
    "network = np.tril(network) + np.tril(network, -1).T # make the matrix symmetric\n",
    "network = network / np.sum(network, axis=1)[:, np.newaxis] # normalize each row to sum to 1"
   ]
  },
  {
   "cell_type": "code",
   "execution_count": null,
   "metadata": {},
   "outputs": [],
   "source": [
    "# Define the pheromone matrix and heuristic information matrix\n",
    "pheromones = np.full((NUM_RSUS, NUM_RSUS), INITIAL_PHEROMONE)\n",
    "heuristics = np.empty((NUM_RSUS, NUM_RSUS))\n",
    "for i in range(NUM_RSUS):\n",
    "    for j in range(NUM_RSUS):\n",
    "        if i == j:\n",
    "            heuristics[i,j] = 0\n",
    "        else:\n",
    "            heuristics[i,j] = 1 / network[i,j]\n",
    "\n",
    "def compute_fitness(solution):\n",
    "    final_tasks = task_offloading(network=solution, tasks_bank=tasks_bank)\n",
    "    # get the maximum of MIGRATION_HISTORY and COMPUTATION_HISTORY for each task\n",
    "    max_migration = max([max(task.MIGRATION_HISTORY) for task in final_tasks])\n",
    "    max_computation = max([max(task.COMPUTATION_HISTORY) for task in final_tasks])\n",
    "\n",
    "    return max_migration, max_computation\n",
    "\n",
    "# Define a function to update the pheromone matrix\n",
    "def update_pheromones(pheromones, ants, obj_func, evaporation_rate, alpha, beta):\n",
    "    # Update pheromone levels on each edge\n",
    "    for i, j in np.ndindex(pheromones.shape):\n",
    "        # Calculate the amount of pheromone deposited on the edge\n",
    "        pheromone_delta = 0\n",
    "        for ant in ants:\n",
    "            if (i, j) in ant.path:\n",
    "                # Calculate the objective function value for the ant's path\n",
    "                path_obj_func_val = obj_func(ant.path)\n",
    "                # Calculate the amount of pheromone to be deposited on the edge\n",
    "                ant_pheromone_delta = 1 / path_obj_func_val\n",
    "                pheromone_delta += ant_pheromone_delta\n",
    "\n",
    "        # Update the pheromone level on the edge\n",
    "        pheromones[i, j] = (1 - evaporation_rate) * pheromones[i, j] + evaporation_rate * pheromone_delta\n",
    "\n",
    "    # Apply the pheromone limits (optional)\n",
    "    # pheromones = np.clip(pheromones, pheromone_min, pheromone_max)\n",
    "\n",
    "    return pheromones\n"
   ]
  }
 ],
 "metadata": {
  "kernelspec": {
   "display_name": "Python 3",
   "language": "python",
   "name": "python3"
  },
  "language_info": {
   "codemirror_mode": {
    "name": "ipython",
    "version": 3
   },
   "file_extension": ".py",
   "mimetype": "text/x-python",
   "name": "python",
   "nbconvert_exporter": "python",
   "pygments_lexer": "ipython3",
   "version": "3.10.5"
  },
  "orig_nbformat": 4
 },
 "nbformat": 4,
 "nbformat_minor": 2
}
