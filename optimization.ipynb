{
 "cells": [
  {
   "attachments": {},
   "cell_type": "markdown",
   "metadata": {},
   "source": [
    "# Optimization of an IoV system"
   ]
  },
  {
   "cell_type": "code",
   "execution_count": 1,
   "metadata": {},
   "outputs": [],
   "source": [
    "import pandas as pd\n",
    "import matplotlib.pyplot as plt\n",
    "import numpy as np"
   ]
  },
  {
   "attachments": {},
   "cell_type": "markdown",
   "metadata": {},
   "source": [
    "## Importing the data"
   ]
  },
  {
   "cell_type": "code",
   "execution_count": 58,
   "metadata": {},
   "outputs": [],
   "source": [
    "rsu = pd.read_csv('data/rsu.csv')\n",
    "es = pd.read_csv('data/es.csv')\n",
    "tasks = pd.read_csv('data/tasks.csv')"
   ]
  },
  {
   "attachments": {},
   "cell_type": "markdown",
   "metadata": {},
   "source": [
    "# Generating a Network"
   ]
  },
  {
   "cell_type": "code",
   "execution_count": 62,
   "metadata": {},
   "outputs": [],
   "source": [
    "def get_network(rsu: pd.DataFrame, es: pd.DataFrame):\n",
    "    # choose a random number of RSUs M\n",
    "    M = np.random.randint(1, len(rsu))\n",
    "    # choose a random number of ESs W, with W < M\n",
    "    W = np.random.randint(1, M)\n",
    "\n",
    "    # choose M random RSUs\n",
    "    rsu = rsu.sample(M)\n",
    "    # choose W random ESs\n",
    "    es = es.sample(W)\n",
    "\n",
    "    # append empty rows to the es dataframe for it to have the same number of rows as rsu\n",
    "    # use pandas' concat function to append the empty rows\n",
    "    es = pd.concat([es, pd.DataFrame(columns=es.columns)], ignore_index=True)\n",
    "\n",
    "    # shuffle the datasets\n",
    "    rsu = rsu.sample(frac=1).reset_index(drop=True)\n",
    "    es = es.sample(frac=1).reset_index(drop=True)\n",
    "\n",
    "    # merge the rsu and es dataframes \n",
    "    rsu = pd.concat([rsu, es], axis=1)\n",
    "\n",
    "    return {\n",
    "        'M': M,\n",
    "        'W': W,\n",
    "        'network': rsu,\n",
    "    }\n"
   ]
  },
  {
   "cell_type": "code",
   "execution_count": 63,
   "metadata": {},
   "outputs": [],
   "source": [
    "network = get_network(rsu, es)"
   ]
  },
  {
   "cell_type": "code",
   "execution_count": 64,
   "metadata": {},
   "outputs": [
    {
     "name": "stdout",
     "output_type": "stream",
     "text": [
      "Number of RSUs: 81\n",
      "Number of ESs: 4\n"
     ]
    }
   ],
   "source": [
    "print(f\"Number of RSUs: {network['M']}\")\n",
    "print(f\"Number of ESs: {network['W']}\")"
   ]
  },
  {
   "cell_type": "code",
   "execution_count": 66,
   "metadata": {},
   "outputs": [
    {
     "name": "stdout",
     "output_type": "stream",
     "text": [
      "    id   x   y  dtr   id  vms   cp\n",
      "0   86  56  70   30   89    3    7\n",
      "1   33  59  21   34   40    1    6\n",
      "2   43  19   2    6   56    4    9\n",
      "3   82  80  51    1   92    3    7\n",
      "4   87  89  89   47  NaN  NaN  NaN\n",
      "..  ..  ..  ..  ...  ...  ...  ...\n",
      "76  39  25  94    3  NaN  NaN  NaN\n",
      "77  79  36   9   18  NaN  NaN  NaN\n",
      "78  13  52  23   32  NaN  NaN  NaN\n",
      "79  92  95  56   26  NaN  NaN  NaN\n",
      "80  67  51   8   53  NaN  NaN  NaN\n",
      "\n",
      "[81 rows x 7 columns]\n"
     ]
    }
   ],
   "source": [
    "print(network['network'])"
   ]
  }
 ],
 "metadata": {
  "kernelspec": {
   "display_name": "Python 3",
   "language": "python",
   "name": "python3"
  },
  "language_info": {
   "codemirror_mode": {
    "name": "ipython",
    "version": 3
   },
   "file_extension": ".py",
   "mimetype": "text/x-python",
   "name": "python",
   "nbconvert_exporter": "python",
   "pygments_lexer": "ipython3",
   "version": "3.10.5"
  },
  "orig_nbformat": 4,
  "vscode": {
   "interpreter": {
    "hash": "aee8b7b246df8f9039afb4144a1f6fd8d2ca17a180786b69acc140d282b71a49"
   }
  }
 },
 "nbformat": 4,
 "nbformat_minor": 2
}
