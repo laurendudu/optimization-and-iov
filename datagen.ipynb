{
 "cells": [
  {
   "attachments": {},
   "cell_type": "markdown",
   "metadata": {},
   "source": [
    "# Data Generation"
   ]
  },
  {
   "attachments": {},
   "cell_type": "markdown",
   "metadata": {},
   "source": [
    "The goal of this notebook is to generate data for a task offloading model."
   ]
  },
  {
   "cell_type": "code",
   "execution_count": 10,
   "metadata": {},
   "outputs": [],
   "source": [
    "import pandas as pd\n",
    "import numpy as np\n",
    "import matplotlib.pyplot as plt\n",
    "import random as rd"
   ]
  },
  {
   "attachments": {},
   "cell_type": "markdown",
   "metadata": {},
   "source": [
    "## Les RSU (Road Side Unit)"
   ]
  },
  {
   "cell_type": "code",
   "execution_count": 2,
   "metadata": {},
   "outputs": [
    {
     "data": {
      "text/plain": [
       "(100, 4)"
      ]
     },
     "execution_count": 2,
     "metadata": {},
     "output_type": "execute_result"
    }
   ],
   "source": [
    "# we need to geenrate random data for the following variables:\n",
    "\n",
    "# a set of M RSUs \n",
    "# a RSU ID in the range [0, M]\n",
    "# with a coordinate x in the range [0, 100]\n",
    "# with a coordinate y in the range [0, 100]\n",
    "# a data transmission rate DTR in the range [1, 60] Mbps\n",
    "\n",
    "# we have to make sure that no RSU has the same coordinates\n",
    "\n",
    "rsu = pd.DataFrame(columns=['ID', 'X', 'Y', 'DTR'])\n",
    "rsu['ID'] = np.arange(0, 100)\n",
    "rsu['X'] = np.random.randint(0, 100, 100)\n",
    "rsu['Y'] = np.random.randint(0, 100, 100)\n",
    "rsu['DTR'] = np.random.randint(1, 60, 100)\n",
    "\n",
    "rsu.shape"
   ]
  },
  {
   "cell_type": "code",
   "execution_count": 3,
   "metadata": {},
   "outputs": [
    {
     "data": {
      "text/plain": [
       "(100, 4)"
      ]
     },
     "execution_count": 3,
     "metadata": {},
     "output_type": "execute_result"
    }
   ],
   "source": [
    "# if there are duplicates, we need to remove them and regenerate the data\n",
    "\n",
    "rsu = rsu.drop_duplicates(subset=['X', 'Y'], keep='first')\n",
    "rsu = rsu.reset_index(drop=True)\n",
    "\n",
    "rsu.shape\n"
   ]
  },
  {
   "cell_type": "code",
   "execution_count": 4,
   "metadata": {},
   "outputs": [],
   "source": [
    "# write the data to a csv file\n",
    "rsu.to_csv('data/rsu.csv', index=False)"
   ]
  },
  {
   "attachments": {},
   "cell_type": "markdown",
   "metadata": {},
   "source": [
    "## Les ES (Edge Server)"
   ]
  },
  {
   "cell_type": "code",
   "execution_count": 14,
   "metadata": {},
   "outputs": [
    {
     "data": {
      "text/plain": [
       "(40, 3)"
      ]
     },
     "execution_count": 14,
     "metadata": {},
     "output_type": "execute_result"
    }
   ],
   "source": [
    "# we need to generate 100 random edge servers\n",
    "# with an ID in the range [0, 100]\n",
    "# with a number of VMs in the range [1, 5]\n",
    "# with a compute power in the range [1, 10] MIPS\n",
    "\n",
    "es = pd.DataFrame(columns=['ID', 'VM_NB', 'VM_CP'])\n",
    "es['ID'] = np.arange(0, 40)\n",
    "es['VM_NB'] = np.random.randint(1, 6, 40)\n",
    "es['VM_CP'] = np.random.randint(1, 11, 40)\n",
    "\n",
    "es.shape"
   ]
  },
  {
   "cell_type": "code",
   "execution_count": 15,
   "metadata": {},
   "outputs": [
    {
     "data": {
      "text/html": [
       "<div>\n",
       "<style scoped>\n",
       "    .dataframe tbody tr th:only-of-type {\n",
       "        vertical-align: middle;\n",
       "    }\n",
       "\n",
       "    .dataframe tbody tr th {\n",
       "        vertical-align: top;\n",
       "    }\n",
       "\n",
       "    .dataframe thead th {\n",
       "        text-align: right;\n",
       "    }\n",
       "</style>\n",
       "<table border=\"1\" class=\"dataframe\">\n",
       "  <thead>\n",
       "    <tr style=\"text-align: right;\">\n",
       "      <th></th>\n",
       "      <th>ID</th>\n",
       "      <th>VM_NB</th>\n",
       "      <th>VM_CP</th>\n",
       "    </tr>\n",
       "  </thead>\n",
       "  <tbody>\n",
       "    <tr>\n",
       "      <th>0</th>\n",
       "      <td>0</td>\n",
       "      <td>4</td>\n",
       "      <td>3</td>\n",
       "    </tr>\n",
       "    <tr>\n",
       "      <th>1</th>\n",
       "      <td>1</td>\n",
       "      <td>5</td>\n",
       "      <td>10</td>\n",
       "    </tr>\n",
       "    <tr>\n",
       "      <th>2</th>\n",
       "      <td>2</td>\n",
       "      <td>2</td>\n",
       "      <td>2</td>\n",
       "    </tr>\n",
       "    <tr>\n",
       "      <th>3</th>\n",
       "      <td>3</td>\n",
       "      <td>5</td>\n",
       "      <td>4</td>\n",
       "    </tr>\n",
       "    <tr>\n",
       "      <th>4</th>\n",
       "      <td>4</td>\n",
       "      <td>2</td>\n",
       "      <td>7</td>\n",
       "    </tr>\n",
       "  </tbody>\n",
       "</table>\n",
       "</div>"
      ],
      "text/plain": [
       "   ID  VM_NB  VM_CP\n",
       "0   0      4      3\n",
       "1   1      5     10\n",
       "2   2      2      2\n",
       "3   3      5      4\n",
       "4   4      2      7"
      ]
     },
     "execution_count": 15,
     "metadata": {},
     "output_type": "execute_result"
    }
   ],
   "source": [
    "es.head()"
   ]
  },
  {
   "cell_type": "code",
   "execution_count": 16,
   "metadata": {},
   "outputs": [],
   "source": [
    "# write the data to a csv file\n",
    "es.to_csv('data/es.csv', index=False)"
   ]
  },
  {
   "attachments": {},
   "cell_type": "markdown",
   "metadata": {},
   "source": [
    "## Les tâches"
   ]
  },
  {
   "cell_type": "code",
   "execution_count": 12,
   "metadata": {},
   "outputs": [
    {
     "data": {
      "text/html": [
       "<div>\n",
       "<style scoped>\n",
       "    .dataframe tbody tr th:only-of-type {\n",
       "        vertical-align: middle;\n",
       "    }\n",
       "\n",
       "    .dataframe tbody tr th {\n",
       "        vertical-align: top;\n",
       "    }\n",
       "\n",
       "    .dataframe thead th {\n",
       "        text-align: right;\n",
       "    }\n",
       "</style>\n",
       "<table border=\"1\" class=\"dataframe\">\n",
       "  <thead>\n",
       "    <tr style=\"text-align: right;\">\n",
       "      <th></th>\n",
       "      <th>ID</th>\n",
       "      <th>LENGTH</th>\n",
       "      <th>FILE_SIZE</th>\n",
       "      <th>TYPE</th>\n",
       "      <th>X</th>\n",
       "      <th>Y</th>\n",
       "    </tr>\n",
       "  </thead>\n",
       "  <tbody>\n",
       "    <tr>\n",
       "      <th>0</th>\n",
       "      <td>0</td>\n",
       "      <td>40</td>\n",
       "      <td>406</td>\n",
       "      <td>COMPUTATION</td>\n",
       "      <td>4</td>\n",
       "      <td>16</td>\n",
       "    </tr>\n",
       "    <tr>\n",
       "      <th>1</th>\n",
       "      <td>1</td>\n",
       "      <td>40</td>\n",
       "      <td>236</td>\n",
       "      <td>COMPUTATION</td>\n",
       "      <td>66</td>\n",
       "      <td>21</td>\n",
       "    </tr>\n",
       "    <tr>\n",
       "      <th>2</th>\n",
       "      <td>2</td>\n",
       "      <td>28</td>\n",
       "      <td>300</td>\n",
       "      <td>COMPUTATION</td>\n",
       "      <td>35</td>\n",
       "      <td>96</td>\n",
       "    </tr>\n",
       "    <tr>\n",
       "      <th>3</th>\n",
       "      <td>3</td>\n",
       "      <td>84</td>\n",
       "      <td>145</td>\n",
       "      <td>COMPUTATION</td>\n",
       "      <td>63</td>\n",
       "      <td>50</td>\n",
       "    </tr>\n",
       "    <tr>\n",
       "      <th>4</th>\n",
       "      <td>4</td>\n",
       "      <td>69</td>\n",
       "      <td>237</td>\n",
       "      <td>COMPUTATION</td>\n",
       "      <td>0</td>\n",
       "      <td>56</td>\n",
       "    </tr>\n",
       "  </tbody>\n",
       "</table>\n",
       "</div>"
      ],
      "text/plain": [
       "   ID  LENGTH  FILE_SIZE         TYPE   X   Y\n",
       "0   0      40        406  COMPUTATION   4  16\n",
       "1   1      40        236  COMPUTATION  66  21\n",
       "2   2      28        300  COMPUTATION  35  96\n",
       "3   3      84        145  COMPUTATION  63  50\n",
       "4   4      69        237  COMPUTATION   0  56"
      ]
     },
     "execution_count": 12,
     "metadata": {},
     "output_type": "execute_result"
    }
   ],
   "source": [
    "# we need to generate 50 tasks\n",
    "# with an ID in the range [0, 50]\n",
    "# with a number of Million Instructions in the range [1, 100]\n",
    "# with a size in the range [1, 500] MB\n",
    "# with a type of task, either 'data transfer' or 'computation'.\n",
    "# There should be 80% of computation tasks and 20% of data transfer tasks\n",
    "\n",
    "tasks = pd.DataFrame(columns=['ID', 'LENGTH', 'FILE_SIZE', 'TYPE'])\n",
    "tasks['ID'] = np.arange(0, 100)\n",
    "tasks['LENGTH'] = np.random.randint(1, 100, 100)\n",
    "tasks['FILE_SIZE'] = np.random.randint(1, 500, 100)\n",
    "tasks['TYPE'] = np.random.choice(['DATA TRANSFER', 'COMPUTATION'], 100, p=[0.2, 0.8])\n",
    "tasks['X'] = np.random.randint(0, 100, 100)\n",
    "tasks['Y'] = np.random.randint(0, 100, 100)\n",
    "\n",
    "tasks.shape\n",
    "\n",
    "tasks.head()"
   ]
  },
  {
   "cell_type": "code",
   "execution_count": 13,
   "metadata": {},
   "outputs": [],
   "source": [
    "# write the data to a csv file\n",
    "tasks.to_csv('data/tasks.csv', index=False)\n"
   ]
  }
 ],
 "metadata": {
  "kernelspec": {
   "display_name": "Python 3",
   "language": "python",
   "name": "python3"
  },
  "language_info": {
   "codemirror_mode": {
    "name": "ipython",
    "version": 3
   },
   "file_extension": ".py",
   "mimetype": "text/x-python",
   "name": "python",
   "nbconvert_exporter": "python",
   "pygments_lexer": "ipython3",
   "version": "3.10.5"
  },
  "orig_nbformat": 4,
  "vscode": {
   "interpreter": {
    "hash": "aee8b7b246df8f9039afb4144a1f6fd8d2ca17a180786b69acc140d282b71a49"
   }
  }
 },
 "nbformat": 4,
 "nbformat_minor": 2
}
