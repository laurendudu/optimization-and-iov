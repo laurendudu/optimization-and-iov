{
 "cells": [
  {
   "cell_type": "code",
   "execution_count": 1,
   "metadata": {},
   "outputs": [],
   "source": [
    "import pandas as pd\n",
    "import matplotlib.pyplot as plt\n",
    "import numpy as np\n",
    "\n",
    "from utils.objects import *\n",
    "from utils.main import *\n",
    "from utils.nsgaii import *\n",
    "from utils.offloading import *"
   ]
  },
  {
   "cell_type": "code",
   "execution_count": 2,
   "metadata": {},
   "outputs": [],
   "source": [
    "rsu = pd.read_csv('data/rsu.csv')\n",
    "es = pd.read_csv('data/es.csv')\n",
    "tasks = pd.read_csv('data/tasks.csv')"
   ]
  },
  {
   "cell_type": "code",
   "execution_count": 3,
   "metadata": {},
   "outputs": [],
   "source": [
    "rsu_bank = populate_rsus(rsu)\n",
    "es_bank = populate_ess(es)\n",
    "tasks_bank = populate_tasks(tasks)"
   ]
  },
  {
   "cell_type": "code",
   "execution_count": 4,
   "metadata": {},
   "outputs": [
    {
     "data": {
      "text/plain": [
       "(20, 5, 100)"
      ]
     },
     "execution_count": 4,
     "metadata": {},
     "output_type": "execute_result"
    }
   ],
   "source": [
    "len(rsu_bank), len(es_bank), len(tasks_bank)"
   ]
  },
  {
   "cell_type": "code",
   "execution_count": 6,
   "metadata": {},
   "outputs": [],
   "source": [
    "population = [Individual(get_random_network(rsu_bank, es_bank)) for _ in range(100)]"
   ]
  },
  {
   "cell_type": "code",
   "execution_count": null,
   "metadata": {},
   "outputs": [],
   "source": [
    "POPULATION_SIZE = 80\n",
    "MAX_GENERATIONS = 100\n",
    "TOURNAMENT_SIZE = 5\n",
    "CROSSOVER_PROBABILITY = 0.9\n",
    "MUTATION_PROBABILITY = 0.1\n",
    "\n",
    "\n",
    "# Define the NSGA2 algorithm\n",
    "def nsga2():\n",
    "    global POPULATION_SIZE, MAX_GENERATIONS, CROSSOVER_PROBABILITY, MUTATION_PROBABILITY\n",
    "    # Create an initial population of candidate solutions\n",
    "    population = [Individual(get_random_network(rsu_bank, es_bank)) for _ in range(POPULATION_SIZE)]\n",
    "    \n",
    "    # Initialize the generation counter\n",
    "    generation = 0\n",
    "    \n",
    "    # Iterate until the maximum number of generations is reached\n",
    "    while generation < MAX_GENERATIONS:\n",
    "        # Create an empty list to store the offspring generated in this generation\n",
    "        offspring = []\n",
    "        \n",
    "        # Perform crossover and mutation operations to generate new offspring\n",
    "        while len(offspring) < POPULATION_SIZE:\n",
    "            # Select two parent solutions using tournament selection\n",
    "            parent1 = tournament_selection(population, tournament_size=TOURNAMENT_SIZE)\n",
    "            parent2 = tournament_selection(population, tournament_size=TOURNAMENT_SIZE)\n",
    "            \n",
    "            # Perform crossover operation with probability CROSSOVER_PROBABILITY\n",
    "            if random.random() < CROSSOVER_PROBABILITY:\n",
    "                child1, child2 = crossing(parent1, parent2)\n",
    "            else:\n",
    "                child1, child2 = parent1, parent2\n",
    "                \n",
    "            # Perform mutation operation on each child with probability MUTATION_PROBABILITY\n",
    "            child1 = mutation(child1)\n",
    "            child2 = mutation(child2)\n",
    "            \n",
    "            # Add the new offspring to the list\n",
    "            offspring.append(child1)\n",
    "            offspring.append(child2)\n",
    "        \n",
    "        \n",
    "        # Combine the parent and offspring populations into a single population for sorting and selection\n",
    "        combined_population = population + offspring\n",
    "        \n",
    "        # Perform non-dominated sorting and crowding distance assignment\n",
    "        fronts = non_dominated_sorting(combined_population)\n",
    "        fronts = crowding_distance(fronts)\n",
    "        \n",
    "        # Select the next generation of candidate solutions using the non-dominated sorting and crowding distance\n",
    "        new_population = []\n",
    "        i = 0\n",
    "        while len(new_population) < POPULATION_SIZE:\n",
    "            # Select the ith front from the non-dominated sorting\n",
    "            front = fronts[i]\n",
    "            \n",
    "            # Sort the solutions in the front by their crowding distance\n",
    "            front = sorted(front, key=lambda x: x.crowding_distance, reverse=True)\n",
    "            \n",
    "            # Add the solutions to the new population until the population size is reached\n",
    "            for solution in front:\n",
    "                if len(new_population) < POPULATION_SIZE:\n",
    "                    new_population.append(solution)\n",
    "                else:\n",
    "                    break\n",
    "            \n",
    "            # Move to the next front\n",
    "            i += 1\n",
    "        \n",
    "        # Set the current population and fitness values to the new population and fitness values\n",
    "        population = new_population\n",
    "        \n",
    "        # Increment the generation counter\n",
    "        generation += 1\n",
    "        \n",
    "    # Return the final population and fitness values\n",
    "    return population\n"
   ]
  }
 ],
 "metadata": {
  "kernelspec": {
   "display_name": "Python 3",
   "language": "python",
   "name": "python3"
  },
  "language_info": {
   "codemirror_mode": {
    "name": "ipython",
    "version": 3
   },
   "file_extension": ".py",
   "mimetype": "text/x-python",
   "name": "python",
   "nbconvert_exporter": "python",
   "pygments_lexer": "ipython3",
   "version": "3.10.5"
  },
  "orig_nbformat": 4
 },
 "nbformat": 4,
 "nbformat_minor": 2
}
