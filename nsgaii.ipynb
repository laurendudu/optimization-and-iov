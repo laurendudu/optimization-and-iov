{
 "cells": [
  {
   "cell_type": "code",
   "execution_count": 1,
   "metadata": {},
   "outputs": [],
   "source": [
    "import pandas as pd\n",
    "import matplotlib.pyplot as plt\n",
    "import numpy as np\n",
    "\n",
    "from utils.objects import *\n",
    "from utils.main import *\n",
    "from utils.nsgaii import *\n",
    "from utils.offloading import *"
   ]
  },
  {
   "cell_type": "code",
   "execution_count": 2,
   "metadata": {},
   "outputs": [],
   "source": [
    "rsu = pd.read_csv('data/rsu.csv')\n",
    "es = pd.read_csv('data/es.csv')\n",
    "tasks = pd.read_csv('data/tasks.csv')"
   ]
  },
  {
   "cell_type": "code",
   "execution_count": 3,
   "metadata": {},
   "outputs": [],
   "source": [
    "rsu_bank = populate_rsus(rsu)\n",
    "es_bank = populate_ess(es)\n",
    "tasks_bank = populate_tasks(tasks)"
   ]
  },
  {
   "cell_type": "code",
   "execution_count": 4,
   "metadata": {},
   "outputs": [
    {
     "data": {
      "text/plain": [
       "(20, 5, 100)"
      ]
     },
     "execution_count": 4,
     "metadata": {},
     "output_type": "execute_result"
    }
   ],
   "source": [
    "len(rsu_bank), len(es_bank), len(tasks_bank)"
   ]
  },
  {
   "cell_type": "code",
   "execution_count": 5,
   "metadata": {},
   "outputs": [],
   "source": [
    "initial_network = get_full_network(rsu_bank, es_bank)"
   ]
  },
  {
   "cell_type": "code",
   "execution_count": null,
   "metadata": {},
   "outputs": [],
   "source": [
    "def fitness(individual, tasks):\n",
    "    final_tasks = task_offloading(network=individual, tasks_bank=tasks)\n",
    "\n",
    "    # get the max COMPUTATION_HISTORY of all the tasks\n",
    "    max_computation = max(task.COMPUTATION_HISTORY for task in final_tasks)\n",
    "    # get the max MIGRATION_HISTORY of all the tasks\n",
    "    max_migration = max(task.MIGRATION_HISTORY for task in final_tasks)\n",
    "\n",
    "    return max_computation, max_migration\n",
    "\n",
    "def crossover(parent_1: Individual, parent_2: Individual):\n",
    "    assert len(parent_1.chromosome) == len(parent_2.chromosome)\n",
    "\n",
    "    # choose a random crossover point\n",
    "    crossover_point = np.random.randint(0, len(parent_1.chromosome))\n",
    "\n",
    "    # get the first part of the chromosome from parent_1\n",
    "    chromosome_1 = parent_1.chromosome[:crossover_point]\n",
    "    # get the second part of the chromosome from parent_2\n",
    "    chromosome_2 = parent_2.chromosome[crossover_point:]\n",
    "\n",
    "    # get the first part of the chromosome from parent_2\n",
    "    chromosome_3 = parent_2.chromosome[:crossover_point]\n",
    "    # get the second part of the chromosome from parent_1\n",
    "    chromosome_4 = parent_1.chromosome[crossover_point:]\n",
    "\n",
    "    # create the first child\n",
    "    child_1 = Individual(chromosome=chromosome_1 + chromosome_2, fitness=[0, 0])\n",
    "    # create the second child\n",
    "    child_2 = Individual(chromosome=chromosome_3 + chromosome_4, fitness=[0, 0])\n",
    "\n"
   ]
  }
 ],
 "metadata": {
  "kernelspec": {
   "display_name": "Python 3",
   "language": "python",
   "name": "python3"
  },
  "language_info": {
   "codemirror_mode": {
    "name": "ipython",
    "version": 3
   },
   "file_extension": ".py",
   "mimetype": "text/x-python",
   "name": "python",
   "nbconvert_exporter": "python",
   "pygments_lexer": "ipython3",
   "version": "3.10.5"
  },
  "orig_nbformat": 4
 },
 "nbformat": 4,
 "nbformat_minor": 2
}
