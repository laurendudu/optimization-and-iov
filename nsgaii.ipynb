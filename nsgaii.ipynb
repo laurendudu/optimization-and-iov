{
 "cells": [
  {
   "cell_type": "code",
   "execution_count": 1,
   "metadata": {},
   "outputs": [],
   "source": [
    "import pandas as pd\n",
    "import matplotlib.pyplot as plt\n",
    "import numpy as np\n",
    "\n",
    "from utils.objects import *\n",
    "from utils.main import *\n",
    "from utils.nsgaii import *\n",
    "from utils.offloading import *\n",
    "\n",
    "from tqdm.notebook import tqdm"
   ]
  },
  {
   "cell_type": "code",
   "execution_count": 2,
   "metadata": {},
   "outputs": [],
   "source": [
    "rsu = pd.read_csv('data/rsu.csv')\n",
    "es = pd.read_csv('data/es.csv')\n",
    "tasks = pd.read_csv('data/tasks.csv')"
   ]
  },
  {
   "cell_type": "code",
   "execution_count": 3,
   "metadata": {},
   "outputs": [],
   "source": [
    "rsu_bank = populate_rsus(rsu)\n",
    "es_bank = populate_ess(es)\n",
    "tasks_bank = populate_tasks(tasks)"
   ]
  },
  {
   "cell_type": "code",
   "execution_count": 4,
   "metadata": {},
   "outputs": [
    {
     "data": {
      "text/plain": [
       "(20, 5, 100)"
      ]
     },
     "execution_count": 4,
     "metadata": {},
     "output_type": "execute_result"
    }
   ],
   "source": [
    "len(rsu_bank), len(es_bank), len(tasks_bank)"
   ]
  },
  {
   "cell_type": "code",
   "execution_count": 5,
   "metadata": {},
   "outputs": [],
   "source": [
    "# Define the NSGA2 algorithm\n",
    "def nsga2():\n",
    "    global POPULATION_SIZE, MAX_GENERATIONS, TOURNAMENT_SIZE, CROSSOVER_PROBABILITY, MUTATION_PROBABILITY\n",
    "    # Create an initial population of candidate solutions\n",
    "    population = [Individual(get_random_network(rsu_bank, es_bank)) for _ in range(POPULATION_SIZE)]\n",
    "    \n",
    "    # Iterate until the maximum number of generations is reached\n",
    "    for _ in tqdm(range(MAX_GENERATIONS)):\n",
    "        # Create an empty list to store the offspring generated in this generation\n",
    "        offspring = []\n",
    "        \n",
    "        # Perform crossover and mutation operations to generate new offspring\n",
    "        while len(offspring) < POPULATION_SIZE:\n",
    "            # Select two parent solutions using tournament selection\n",
    "            parent1 = tournament_selection(population, tournament_size=TOURNAMENT_SIZE)\n",
    "            parent2 = tournament_selection(population, tournament_size=TOURNAMENT_SIZE)\n",
    "            \n",
    "            # Perform crossover operation with probability CROSSOVER_PROBABILITY\n",
    "            if random.random() < CROSSOVER_PROBABILITY:\n",
    "                child1, child2 = crossing(parent1, parent2)\n",
    "            else:\n",
    "                child1, child2 = parent1, parent2\n",
    "                \n",
    "            # Perform mutation operation on each child with probability MUTATION_PROBABILITY\n",
    "            if random.random() < MUTATION_PROBABILITY:\n",
    "                child1 = mutation(child1)\n",
    "                child2 = mutation(child2)\n",
    "            \n",
    "            # Add the new offspring to the list\n",
    "            offspring.append(child1)\n",
    "            offspring.append(child2)\n",
    "        \n",
    "        \n",
    "        # Combine the parent and offspring populations into a single population for sorting and selection\n",
    "        combined_population = population + offspring\n",
    "        \n",
    "        # Perform non-dominated sorting and crowding distance assignment\n",
    "        fronts = non_dominated_sorting(combined_population)\n",
    "        fronts = crowding_distance(fronts)\n",
    "        \n",
    "        # Select the next generation of candidate solutions using the non-dominated sorting and crowding distance\n",
    "        new_population = []\n",
    "        i = 0\n",
    "        while len(new_population) < POPULATION_SIZE and i < len(fronts):\n",
    "            # Select the ith front from the non-dominated sorting\n",
    "            front = fronts[i]\n",
    "            \n",
    "            # Sort the solutions in the front by their crowding distance\n",
    "            front = sorted(front, key=lambda x: x.crowding_distance, reverse=True)\n",
    "            \n",
    "            # Add the solutions to the new population until the population size is reached\n",
    "            for solution in front:\n",
    "                if len(new_population) < POPULATION_SIZE:\n",
    "                    new_population.append(solution)\n",
    "                else:\n",
    "                    break\n",
    "            \n",
    "            # Move to the next front\n",
    "            i += 1\n",
    "        \n",
    "        # Set the current population and fitness values to the new population and fitness values\n",
    "        population = new_population\n",
    "        \n",
    "    # Return the final population and fitness values\n",
    "    return population\n"
   ]
  },
  {
   "cell_type": "code",
   "execution_count": 6,
   "metadata": {},
   "outputs": [
    {
     "data": {
      "application/vnd.jupyter.widget-view+json": {
       "model_id": "ca8f4e4e0d0940c0963ad094c5f5b7c5",
       "version_major": 2,
       "version_minor": 0
      },
      "text/plain": [
       "  0%|          | 0/10 [00:00<?, ?it/s]"
      ]
     },
     "metadata": {},
     "output_type": "display_data"
    }
   ],
   "source": [
    "POPULATION_SIZE = 100\n",
    "MAX_GENERATIONS = 10\n",
    "TOURNAMENT_SIZE = 2\n",
    "CROSSOVER_PROBABILITY = 0.9\n",
    "MUTATION_PROBABILITY = 0.1\n",
    "test_1 = nsga2()"
   ]
  },
  {
   "cell_type": "code",
   "execution_count": 7,
   "metadata": {},
   "outputs": [
    {
     "data": {
      "image/png": "[encoded data removed]",
      "text/plain": [
       "<Figure size 360x360 with 1 Axes>"
      ]
     },
     "metadata": {
      "needs_background": "light"
     },
     "output_type": "display_data"
    }
   ],
   "source": [
    "# make the plot bigger\n",
    "plt.figure(figsize=(5, 5))\n",
    "\n",
    "# plot the fitness values of the final population\n",
    "# change the color for each rank value\n",
    "for individual in test_1:\n",
    "    if individual.rank == 1:\n",
    "        plt.scatter(individual.fitness[0], individual.fitness[1], color='red')\n",
    "    else:\n",
    "        continue\n",
    "\n",
    "# label the axes\n",
    "plt.xlabel('Max Computation Time')\n",
    "plt.ylabel('Max Migration Time')\n",
    "\n",
    "# show the plot\n",
    "plt.show()"
   ]
  },
  {
   "cell_type": "code",
   "execution_count": 19,
   "metadata": {},
   "outputs": [
    {
     "data": {
      "application/vnd.jupyter.widget-view+json": {
       "model_id": "eb13d572f535431c8d78f293904e4e08",
       "version_major": 2,
       "version_minor": 0
      },
      "text/plain": [
       "  0%|          | 0/10 [00:00<?, ?it/s]"
      ]
     },
     "metadata": {},
     "output_type": "display_data"
    }
   ],
   "source": [
    "# delete all instances of the Individual class\n",
    "Individual.__instances__ = []\n",
    "\n",
    "POPULATION_SIZE = 200\n",
    "MAX_GENERATIONS = 10\n",
    "TOURNAMENT_SIZE = 2\n",
    "CROSSOVER_PROBABILITY = 0.9\n",
    "MUTATION_PROBABILITY = 0.1\n",
    "test_2 = nsga2()"
   ]
  },
  {
   "cell_type": "code",
   "execution_count": 28,
   "metadata": {},
   "outputs": [
    {
     "data": {
      "image/png": "[encoded data removed]",
      "text/plain": [
       "<Figure size 432x288 with 1 Axes>"
      ]
     },
     "metadata": {
      "needs_background": "light"
     },
     "output_type": "display_data"
    }
   ],
   "source": [
    "for individual in test_2:\n",
    "    if individual.rank != 1:\n",
    "        plt.scatter(individual.fitness[0], individual.fitness[1], color='red')\n",
    "    \n",
    "for individual in test_2:\n",
    "    if individual.rank == 1:\n",
    "        plt.scatter(individual.fitness[0], individual.fitness[1], color='green')\n",
    "\n",
    "# label the axes\n",
    "plt.xlabel('Max Computation Time')\n",
    "plt.ylabel('Max Migration Time')\n",
    "\n",
    "# show the plot\n",
    "plt.show()"
   ]
  },
  {
   "cell_type": "code",
   "execution_count": 13,
   "metadata": {},
   "outputs": [
    {
     "data": {
      "application/vnd.jupyter.widget-view+json": {
       "model_id": "0862d9dab3e2421bb5af3142d6898f66",
       "version_major": 2,
       "version_minor": 0
      },
      "text/plain": [
       "  0%|          | 0/50 [00:00<?, ?it/s]"
      ]
     },
     "metadata": {},
     "output_type": "display_data"
    }
   ],
   "source": [
    "# delete all instances of the Individual class\n",
    "Individual.__instances__ = []\n",
    "\n",
    "POPULATION_SIZE = 200\n",
    "MAX_GENERATIONS = 50\n",
    "TOURNAMENT_SIZE = 2\n",
    "CROSSOVER_PROBABILITY = 0.9\n",
    "MUTATION_PROBABILITY = 0.1\n",
    "test_3 = nsga2()"
   ]
  },
  {
   "cell_type": "code",
   "execution_count": 14,
   "metadata": {},
   "outputs": [
    {
     "data": {
      "image/png": "[encoded data removed]",
      "text/plain": [
       "<Figure size 432x288 with 1 Axes>"
      ]
     },
     "metadata": {
      "needs_background": "light"
     },
     "output_type": "display_data"
    }
   ],
   "source": [
    "for individual in test_2:\n",
    "    if individual.rank == 1:\n",
    "        plt.scatter(individual.fitness[0], individual.fitness[1], color='red')\n",
    "    else:\n",
    "        continue\n",
    "\n",
    "# label the axes\n",
    "plt.xlabel('Max Computation Time')\n",
    "plt.ylabel('Max Migration Time')\n",
    "\n",
    "# show the plot\n",
    "plt.show()"
   ]
  },
  {
   "cell_type": "code",
   "execution_count": 18,
   "metadata": {},
   "outputs": [
    {
     "data": {
      "application/vnd.jupyter.widget-view+json": {
       "model_id": "9ff5ee7c70424169b0c3835ba53e8798",
       "version_major": 2,
       "version_minor": 0
      },
      "text/plain": [
       "  0%|          | 0/50 [00:00<?, ?it/s]"
      ]
     },
     "metadata": {},
     "output_type": "display_data"
    },
    {
     "ename": "KeyboardInterrupt",
     "evalue": "",
     "output_type": "error",
     "traceback": [
      "\u001b[0;31m---------------------------------------------------------------------------\u001b[0m",
      "\u001b[0;31mKeyboardInterrupt\u001b[0m                         Traceback (most recent call last)",
      "\u001b[0;32m/var/folders/jn/255yhly14195r8858jc1_c6r0000gn/T/ipykernel_16109/4057518318.py\u001b[0m in \u001b[0;36m<cell line: 9>\u001b[0;34m()\u001b[0m\n\u001b[1;32m      7\u001b[0m \u001b[0mCROSSOVER_PROBABILITY\u001b[0m \u001b[0;34m=\u001b[0m \u001b[0;36m0.9\u001b[0m\u001b[0;34m\u001b[0m\u001b[0;34m\u001b[0m\u001b[0m\n\u001b[1;32m      8\u001b[0m \u001b[0mMUTATION_PROBABILITY\u001b[0m \u001b[0;34m=\u001b[0m \u001b[0;36m0.1\u001b[0m\u001b[0;34m\u001b[0m\u001b[0;34m\u001b[0m\u001b[0m\n\u001b[0;32m----> 9\u001b[0;31m \u001b[0mtest_4\u001b[0m \u001b[0;34m=\u001b[0m \u001b[0mnsga2\u001b[0m\u001b[0;34m(\u001b[0m\u001b[0;34m)\u001b[0m\u001b[0;34m\u001b[0m\u001b[0;34m\u001b[0m\u001b[0m\n\u001b[0m",
      "\u001b[0;32m/var/folders/jn/255yhly14195r8858jc1_c6r0000gn/T/ipykernel_16109/3759188582.py\u001b[0m in \u001b[0;36mnsga2\u001b[0;34m()\u001b[0m\n\u001b[1;32m     24\u001b[0m             \u001b[0;31m# Perform crossover operation with probability CROSSOVER_PROBABILITY\u001b[0m\u001b[0;34m\u001b[0m\u001b[0;34m\u001b[0m\u001b[0m\n\u001b[1;32m     25\u001b[0m             \u001b[0;32mif\u001b[0m \u001b[0mrandom\u001b[0m\u001b[0;34m.\u001b[0m\u001b[0mrandom\u001b[0m\u001b[0;34m(\u001b[0m\u001b[0;34m)\u001b[0m \u001b[0;34m<\u001b[0m \u001b[0mCROSSOVER_PROBABILITY\u001b[0m\u001b[0;34m:\u001b[0m\u001b[0;34m\u001b[0m\u001b[0;34m\u001b[0m\u001b[0m\n\u001b[0;32m---> 26\u001b[0;31m                 \u001b[0mchild1\u001b[0m\u001b[0;34m,\u001b[0m \u001b[0mchild2\u001b[0m \u001b[0;34m=\u001b[0m \u001b[0mcrossing\u001b[0m\u001b[0;34m(\u001b[0m\u001b[0mparent1\u001b[0m\u001b[0;34m,\u001b[0m \u001b[0mparent2\u001b[0m\u001b[0;34m)\u001b[0m\u001b[0;34m\u001b[0m\u001b[0;34m\u001b[0m\u001b[0m\n\u001b[0m\u001b[1;32m     27\u001b[0m             \u001b[0;32melse\u001b[0m\u001b[0;34m:\u001b[0m\u001b[0;34m\u001b[0m\u001b[0;34m\u001b[0m\u001b[0m\n\u001b[1;32m     28\u001b[0m                 \u001b[0mchild1\u001b[0m\u001b[0;34m,\u001b[0m \u001b[0mchild2\u001b[0m \u001b[0;34m=\u001b[0m \u001b[0mparent1\u001b[0m\u001b[0;34m,\u001b[0m \u001b[0mparent2\u001b[0m\u001b[0;34m\u001b[0m\u001b[0;34m\u001b[0m\u001b[0m\n",
      "\u001b[0;32m~/Documents/GitHub/laurendudu/optimization-and-iov/utils/nsgaii.py\u001b[0m in \u001b[0;36mcrossing\u001b[0;34m(parent_1, parent_2)\u001b[0m\n\u001b[1;32m    190\u001b[0m     \u001b[0;31m# create a network and Individual from the child chromosome 1\u001b[0m\u001b[0;34m\u001b[0m\u001b[0;34m\u001b[0m\u001b[0m\n\u001b[1;32m    191\u001b[0m     \u001b[0mchild_network_1\u001b[0m \u001b[0;34m=\u001b[0m \u001b[0mchromosome_to_network\u001b[0m\u001b[0;34m(\u001b[0m\u001b[0mchild_chromosome_1\u001b[0m\u001b[0;34m)\u001b[0m\u001b[0;34m\u001b[0m\u001b[0;34m\u001b[0m\u001b[0m\n\u001b[0;32m--> 192\u001b[0;31m     \u001b[0mchild_1\u001b[0m \u001b[0;34m=\u001b[0m \u001b[0mIndividual\u001b[0m\u001b[0;34m(\u001b[0m\u001b[0mchild_network_1\u001b[0m\u001b[0;34m)\u001b[0m\u001b[0;34m\u001b[0m\u001b[0;34m\u001b[0m\u001b[0m\n\u001b[0m\u001b[1;32m    193\u001b[0m \u001b[0;34m\u001b[0m\u001b[0m\n\u001b[1;32m    194\u001b[0m     \u001b[0;31m# create a network and Individual from the child chromosome 2\u001b[0m\u001b[0;34m\u001b[0m\u001b[0;34m\u001b[0m\u001b[0m\n",
      "\u001b[0;32m~/Documents/GitHub/laurendudu/optimization-and-iov/utils/nsgaii.py\u001b[0m in \u001b[0;36m__init__\u001b[0;34m(self, network)\u001b[0m\n\u001b[1;32m     21\u001b[0m \u001b[0;34m\u001b[0m\u001b[0m\n\u001b[1;32m     22\u001b[0m         \u001b[0;31m# compute the fitness\u001b[0m\u001b[0;34m\u001b[0m\u001b[0;34m\u001b[0m\u001b[0m\n\u001b[0;32m---> 23\u001b[0;31m         \u001b[0mself\u001b[0m\u001b[0;34m.\u001b[0m\u001b[0mfitness\u001b[0m \u001b[0;34m=\u001b[0m \u001b[0mfitness\u001b[0m\u001b[0;34m(\u001b[0m\u001b[0mnetwork\u001b[0m\u001b[0;34m)\u001b[0m\u001b[0;34m\u001b[0m\u001b[0;34m\u001b[0m\u001b[0m\n\u001b[0m\u001b[1;32m     24\u001b[0m \u001b[0;34m\u001b[0m\u001b[0m\n\u001b[1;32m     25\u001b[0m         \u001b[0mself\u001b[0m\u001b[0;34m.\u001b[0m\u001b[0m__class__\u001b[0m\u001b[0;34m.\u001b[0m\u001b[0mglobal_individual\u001b[0m\u001b[0;34m.\u001b[0m\u001b[0mappend\u001b[0m\u001b[0;34m(\u001b[0m\u001b[0mself\u001b[0m\u001b[0;34m)\u001b[0m\u001b[0;34m\u001b[0m\u001b[0;34m\u001b[0m\u001b[0m\n",
      "\u001b[0;32m~/Documents/GitHub/laurendudu/optimization-and-iov/utils/nsgaii.py\u001b[0m in \u001b[0;36mfitness\u001b[0;34m(network)\u001b[0m\n\u001b[1;32m    130\u001b[0m     \u001b[0mfresh_network\u001b[0m\u001b[0;34m,\u001b[0m \u001b[0mfresh_tasks\u001b[0m \u001b[0;34m=\u001b[0m \u001b[0mreset_history\u001b[0m\u001b[0;34m(\u001b[0m\u001b[0mnetwork\u001b[0m\u001b[0;34m,\u001b[0m \u001b[0mtasks_bank\u001b[0m\u001b[0;34m)\u001b[0m\u001b[0;34m\u001b[0m\u001b[0;34m\u001b[0m\u001b[0m\n\u001b[1;32m    131\u001b[0m \u001b[0;34m\u001b[0m\u001b[0m\n\u001b[0;32m--> 132\u001b[0;31m     \u001b[0mfinal_tasks\u001b[0m \u001b[0;34m=\u001b[0m \u001b[0mtask_offloading\u001b[0m\u001b[0;34m(\u001b[0m\u001b[0mnetwork\u001b[0m\u001b[0;34m=\u001b[0m\u001b[0mfresh_network\u001b[0m\u001b[0;34m,\u001b[0m \u001b[0mtasks_bank\u001b[0m\u001b[0;34m=\u001b[0m\u001b[0mfresh_tasks\u001b[0m\u001b[0;34m)\u001b[0m\u001b[0;34m\u001b[0m\u001b[0;34m\u001b[0m\u001b[0m\n\u001b[0m\u001b[1;32m    133\u001b[0m \u001b[0;34m\u001b[0m\u001b[0m\n\u001b[1;32m    134\u001b[0m     \u001b[0;31m# get the max COMPUTATION_HISTORY of all the tasks\u001b[0m\u001b[0;34m\u001b[0m\u001b[0;34m\u001b[0m\u001b[0m\n",
      "\u001b[0;32m~/Documents/GitHub/laurendudu/optimization-and-iov/utils/offloading.py\u001b[0m in \u001b[0;36mtask_offloading\u001b[0;34m(tasks_bank, network)\u001b[0m\n\u001b[1;32m    104\u001b[0m         \u001b[0;31m# if a task has gone through all the RSU, reset its history\u001b[0m\u001b[0;34m\u001b[0m\u001b[0;34m\u001b[0m\u001b[0m\n\u001b[1;32m    105\u001b[0m         \u001b[0;32mfor\u001b[0m \u001b[0mtask\u001b[0m \u001b[0;32min\u001b[0m \u001b[0mtasks_bank\u001b[0m\u001b[0;34m:\u001b[0m\u001b[0;34m\u001b[0m\u001b[0;34m\u001b[0m\u001b[0m\n\u001b[0;32m--> 106\u001b[0;31m             \u001b[0;32mif\u001b[0m \u001b[0mlen\u001b[0m\u001b[0;34m(\u001b[0m\u001b[0mtask\u001b[0m\u001b[0;34m.\u001b[0m\u001b[0mRSU_HISTORY\u001b[0m\u001b[0;34m)\u001b[0m \u001b[0;34m==\u001b[0m \u001b[0mlen\u001b[0m\u001b[0;34m(\u001b[0m\u001b[0mnetwork\u001b[0m\u001b[0;34m)\u001b[0m\u001b[0;34m:\u001b[0m\u001b[0;34m\u001b[0m\u001b[0;34m\u001b[0m\u001b[0m\n\u001b[0m\u001b[1;32m    107\u001b[0m                 \u001b[0mtask\u001b[0m\u001b[0;34m.\u001b[0m\u001b[0mRSU_HISTORY\u001b[0m \u001b[0;34m=\u001b[0m \u001b[0;34m[\u001b[0m\u001b[0;34m]\u001b[0m\u001b[0;34m\u001b[0m\u001b[0;34m\u001b[0m\u001b[0m\n\u001b[1;32m    108\u001b[0m \u001b[0;34m\u001b[0m\u001b[0m\n",
      "\u001b[0;31mKeyboardInterrupt\u001b[0m: "
     ]
    }
   ],
   "source": [
    "# delete all instances of the Individual class\n",
    "Individual.__instances__ = []\n",
    "\n",
    "POPULATION_SIZE = 300\n",
    "MAX_GENERATIONS = 50\n",
    "TOURNAMENT_SIZE = 5\n",
    "CROSSOVER_PROBABILITY = 0.9\n",
    "MUTATION_PROBABILITY = 0.1\n",
    "test_4 = nsga2()"
   ]
  }
 ],
 "metadata": {
  "kernelspec": {
   "display_name": "Python 3",
   "language": "python",
   "name": "python3"
  },
  "language_info": {
   "codemirror_mode": {
    "name": "ipython",
    "version": 3
   },
   "file_extension": ".py",
   "mimetype": "text/x-python",
   "name": "python",
   "nbconvert_exporter": "python",
   "pygments_lexer": "ipython3",
   "version": "3.10.5"
  },
  "orig_nbformat": 4
 },
 "nbformat": 4,
 "nbformat_minor": 2
}
